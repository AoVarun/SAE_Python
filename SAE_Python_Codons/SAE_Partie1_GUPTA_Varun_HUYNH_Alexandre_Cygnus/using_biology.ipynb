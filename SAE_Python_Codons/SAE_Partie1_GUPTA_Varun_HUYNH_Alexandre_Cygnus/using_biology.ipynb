{
 "cells": [
  {
   "cell_type": "markdown",
   "metadata": {},
   "source": [
    "# Notebook de présentation de la SAE S01.02"
   ]
  },
  {
   "cell_type": "markdown",
   "metadata": {},
   "source": [
    "## Binôme \n",
    "\n",
    "* Gupta Varun\n",
    "* Huynh Alexandre"
   ]
  },
  {
   "cell_type": "markdown",
   "metadata": {},
   "source": [
    "---\n",
    "# Partie 1"
   ]
  },
  {
   "cell_type": "code",
   "execution_count": 1,
   "metadata": {},
   "outputs": [],
   "source": [
    "from biology import *\n",
    "from test_biology import *"
   ]
  },
  {
   "cell_type": "markdown",
   "metadata": {},
   "source": [
    "## Question 1"
   ]
  },
  {
   "cell_type": "code",
   "execution_count": 8,
   "metadata": {},
   "outputs": [
    {
     "name": "stdout",
     "output_type": "stream",
     "text": [
      "True\n",
      "test_est_base = ok\n"
     ]
    }
   ],
   "source": [
    "# Fonction est_base\n",
    "print(est_base(\"A\"))\n",
    "\n",
    "# Test unitaire est_base\n",
    "test_est_base()"
   ]
  },
  {
   "cell_type": "markdown",
   "metadata": {},
   "source": [
    "## Question 2"
   ]
  },
  {
   "cell_type": "code",
   "execution_count": 9,
   "metadata": {},
   "outputs": [
    {
     "name": "stdout",
     "output_type": "stream",
     "text": [
      "True\n",
      "test_est_adn = ok\n"
     ]
    }
   ],
   "source": [
    "# Fonction est_adn\n",
    "print(est_adn(\"ATGTCAAA\"))\n",
    "\n",
    "# Test unitaire est_adn\n",
    "test_est_adn()"
   ]
  },
  {
   "cell_type": "markdown",
   "metadata": {},
   "source": [
    "## Question 3"
   ]
  },
  {
   "cell_type": "code",
   "execution_count": 10,
   "metadata": {},
   "outputs": [
    {
     "name": "stdout",
     "output_type": "stream",
     "text": [
      "AUGUCAAA\n",
      "test_arn = ok\n"
     ]
    }
   ],
   "source": [
    "# Fonction arn\n",
    "print(arn(\"ATGTCAAA\"))\n",
    "\n",
    "# Test unitaire arn\n",
    "test_arn()"
   ]
  },
  {
   "cell_type": "markdown",
   "metadata": {},
   "source": [
    "## Question 4"
   ]
  },
  {
   "cell_type": "code",
   "execution_count": 11,
   "metadata": {},
   "outputs": [
    {
     "name": "stdout",
     "output_type": "stream",
     "text": [
      "['CGU', 'UAG', 'GGG']\n",
      "test_arn_to_codons = ok\n"
     ]
    }
   ],
   "source": [
    "# Fonction arn_to_codons\n",
    "print(arn_to_codons(\"CGUUAGGGG\"))\n",
    "\n",
    "# Test unitaire arn_to_codons\n",
    "test_arn_to_codons()"
   ]
  },
  {
   "cell_type": "markdown",
   "metadata": {},
   "source": [
    "## Question 5"
   ]
  },
  {
   "cell_type": "code",
   "execution_count": 12,
   "metadata": {},
   "outputs": [
    {
     "name": "stdout",
     "output_type": "stream",
     "text": [
      "{'UUU': 'Phenylalanine', 'UUC': 'Phenylalanine', 'UUA': 'Leucine', 'UUG': 'Leucine', 'CUU': 'Leucine', 'CUC': 'Leucine', 'CUA': 'Leucine', 'CUG': 'Leucine', 'AUU': 'Isoleucine', 'AUC': 'Isoleucine', 'AUA': 'Methionine', 'AUG': 'Methionine', 'GUU': 'Valine', 'GUC': 'Valine', 'GUA': 'Valine', 'GUG': 'Valine', 'UCU': 'Serine', 'UCC': 'Serine', 'UCA': 'Serine', 'UCG': 'Serine', 'CCU': 'Proline', 'CCC': 'Proline', 'CCA': 'Proline', 'CCG': 'Proline', 'ACU': 'Threonine', 'ACC': 'Threonine', 'ACA': 'Threonine', 'ACG': 'Threonine', 'GCU': 'Alanine', 'GCC': 'Alanine', 'GCA': 'Alanine', 'GCG': 'Alanine', 'UAU': 'Tyrosine', 'UAC': 'Tyrosine', 'CAU': 'Histidine', 'CAC': 'Histidine', 'CAA': 'Glutamine', 'CAG': 'Glutamine', 'AAU': 'Asparagine', 'AAC': 'Asparagine', 'AAA': 'Lysine', 'AAG': 'Lysine', 'GAU': 'Aspartic acid', 'GAC': 'Aspartic acid', 'GAA': 'Glutamic acid', 'GAG': 'Glutamic acid', 'UGU': 'Cysteine', 'UGC': 'Cysteine', 'UGA': 'Tryptophan', 'UGG': 'Tryptophan', 'CGU': 'Arginine', 'CGC': 'Arginine', 'CGA': 'Arginine', 'CGG': 'Arginine', 'AGU': 'Serine', 'AGC': 'Serine', 'GGU': 'Glycine', 'GGC': 'Glycine', 'GGA': 'Glycine', 'GGG': 'Glycine'} \n",
      "\n",
      "['UAA']\n",
      "test_codons_stop = ok\n"
     ]
    }
   ],
   "source": [
    "# Fonction load_dico_codons_aa\n",
    "dico_codons=load_dico_codons_aa(\"./data/codons_aa.json\")\n",
    "print(dico_codons,\"\\n\")\n",
    "\n",
    "# Fonction codons_stop\n",
    "print(codons_stop(dico_codons))\n",
    "\n",
    "# Test unitaire codons_stop\n",
    "test_codons_stop()"
   ]
  },
  {
   "cell_type": "markdown",
   "metadata": {},
   "source": [
    "## Question 6"
   ]
  },
  {
   "cell_type": "code",
   "execution_count": 13,
   "metadata": {},
   "outputs": [
    {
     "name": "stdout",
     "output_type": "stream",
     "text": [
      "['Arginine', 'Asparagine']\n",
      "test_codons_to_aa = ok\n"
     ]
    }
   ],
   "source": [
    "# Fonction codons_to_aa\n",
    "print(codons_to_aa([\"CGU\", \"AAU\", \"UAA\", \"GGG\", \"CGU\"],dico_codons))\n",
    "\n",
    "# Test unitaire codons_to_aa\n",
    "test_codons_to_aa()"
   ]
  }
 ],
 "metadata": {
  "kernelspec": {
   "display_name": "Python 3",
   "language": "python",
   "name": "python3"
  },
  "language_info": {
   "codemirror_mode": {
    "name": "ipython",
    "version": 3
   },
   "file_extension": ".py",
   "mimetype": "text/x-python",
   "name": "python",
   "nbconvert_exporter": "python",
   "pygments_lexer": "ipython3",
   "version": "3.8.8"
  }
 },
 "nbformat": 4,
 "nbformat_minor": 2
}
