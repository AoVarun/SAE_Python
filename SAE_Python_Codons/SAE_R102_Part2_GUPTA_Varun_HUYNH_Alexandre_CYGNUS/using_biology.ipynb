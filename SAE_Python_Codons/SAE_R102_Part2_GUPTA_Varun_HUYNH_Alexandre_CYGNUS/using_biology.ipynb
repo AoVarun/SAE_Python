{
 "cells": [
  {
   "cell_type": "markdown",
   "metadata": {},
   "source": [
    "# Notebook de présentation de la SAE S01.02"
   ]
  },
  {
   "cell_type": "markdown",
   "metadata": {},
   "source": [
    "## Binôme \n",
    "\n",
    "* Gupta Varun\n",
    "* Huynh Alexandre"
   ]
  },
  {
   "cell_type": "markdown",
   "metadata": {},
   "source": [
    "<hr>"
   ]
  },
  {
   "cell_type": "markdown",
   "metadata": {},
   "source": [
    "# Partie 2"
   ]
  },
  {
   "cell_type": "code",
   "execution_count": 1,
   "metadata": {},
   "outputs": [],
   "source": [
    "from biology import *\n",
    "from test_biology import *"
   ]
  },
  {
   "cell_type": "markdown",
   "metadata": {},
   "source": [
    "## Question 1"
   ]
  },
  {
   "cell_type": "code",
   "execution_count": 2,
   "metadata": {},
   "outputs": [
    {
     "name": "stdout",
     "output_type": "stream",
     "text": [
      "1\n"
     ]
    }
   ],
   "source": [
    "print(nextIndice([\"bonjour\", \"hello\", \"buongiorno\", \"ciao\", \"bye\"], 1, [\"hello\", \"bye\"]))"
   ]
  },
  {
   "cell_type": "code",
   "execution_count": 3,
   "metadata": {},
   "outputs": [
    {
     "name": "stdout",
     "output_type": "stream",
     "text": [
      "test_nextIndice() = ok\n"
     ]
    }
   ],
   "source": [
    "test_nextIndice()"
   ]
  },
  {
   "cell_type": "markdown",
   "metadata": {},
   "source": [
    "## Question 2"
   ]
  },
  {
   "cell_type": "code",
   "execution_count": 4,
   "metadata": {},
   "outputs": [
    {
     "name": "stdout",
     "output_type": "stream",
     "text": [
      "[['val2', 'val3'], ['val5']]\n"
     ]
    }
   ],
   "source": [
    "print(decoupe_sequence([\"val1\", \"début\", \"val2\", \"val3\", \"end\", \"val4\", \"fin\", \"begin\", \"val5\", \"fin\", \"val6\"],\n",
    "                       [\"début\", \"begin\"],\n",
    "                       [\"fin\", \"end\"]))"
   ]
  },
  {
   "cell_type": "code",
   "execution_count": 5,
   "metadata": {},
   "outputs": [
    {
     "name": "stdout",
     "output_type": "stream",
     "text": [
      "test_decoupe_sequence() = ok\n"
     ]
    }
   ],
   "source": [
    "test_decoupe_sequence()"
   ]
  },
  {
   "cell_type": "markdown",
   "metadata": {},
   "source": [
    "## Question 3"
   ]
  },
  {
   "cell_type": "code",
   "execution_count": 6,
   "metadata": {},
   "outputs": [
    {
     "name": "stdout",
     "output_type": "stream",
     "text": [
      "[['CGU', 'AUG', 'AAU'], ['GGG', 'CCC', 'CGU']]\n"
     ]
    }
   ],
   "source": [
    "print(codons_to_seq_codantes([\"CGU\", \"UUU\", \"AUG\", \"CGU\", \"AUG\", \"AAU\", \"UAA\", \"AUG\", \"GGG\", \"CCC\",  \"CGU\", \"UAG\", \"GGG\"],\n",
    "                             load_dico_codons_aa(\"./data/codons_aa.json\")))"
   ]
  },
  {
   "cell_type": "code",
   "execution_count": 7,
   "metadata": {},
   "outputs": [
    {
     "name": "stdout",
     "output_type": "stream",
     "text": [
      "test_codons_to_seq_codantes() = ok\n"
     ]
    }
   ],
   "source": [
    "test_codons_to_seq_codantes()"
   ]
  },
  {
   "cell_type": "markdown",
   "metadata": {},
   "source": [
    "## Question 4"
   ]
  },
  {
   "cell_type": "code",
   "execution_count": 8,
   "metadata": {},
   "outputs": [
    {
     "name": "stdout",
     "output_type": "stream",
     "text": [
      "[['Arginine', 'Methionine', 'Asparagine'], ['Glycine', 'Proline', 'Arginine']]\n"
     ]
    }
   ],
   "source": [
    "print(seq_codantes_to_seq_aas(codons_to_seq_codantes([\"CGU\", \"UUU\", \"AUG\", \"CGU\", \"AUG\", \"AAU\", \n",
    "                                                      \"UAA\", \"AUG\", \"GGG\", \"CCC\", \"CGU\", \"UAG\", \"GGG\"],\n",
    "                                                     load_dico_codons_aa(\"./data/codons_aa.json\")),\n",
    "                              load_dico_codons_aa(\"./data/codons_aa.json\")))"
   ]
  },
  {
   "cell_type": "code",
   "execution_count": 9,
   "metadata": {},
   "outputs": [
    {
     "name": "stdout",
     "output_type": "stream",
     "text": [
      "test_seq_codantes_to_seq_aas() = ok\n"
     ]
    }
   ],
   "source": [
    "test_seq_codantes_to_seq_aas()"
   ]
  },
  {
   "cell_type": "markdown",
   "metadata": {},
   "source": [
    "## Question 5"
   ]
  },
  {
   "cell_type": "code",
   "execution_count": 10,
   "metadata": {},
   "outputs": [
    {
     "name": "stdout",
     "output_type": "stream",
     "text": [
      "True\n"
     ]
    }
   ],
   "source": [
    "print(adn_encode_molecule(\"CGTTTTATGCGTATGAATTAAATGGGGCCCCGTTAGGGG\",\n",
    "                          load_dico_codons_aa(\"./data/codons_aa.json\"),\n",
    "                          [\"Glycine\", \"Proline\", \"Arginine\"]))"
   ]
  },
  {
   "cell_type": "code",
   "execution_count": 11,
   "metadata": {},
   "outputs": [
    {
     "name": "stdout",
     "output_type": "stream",
     "text": [
      "test_adn_encode_molecule() = ok\n"
     ]
    }
   ],
   "source": [
    "test_adn_encode_molecule()"
   ]
  }
 ],
 "metadata": {
  "kernelspec": {
   "display_name": "Python 3",
   "language": "python",
   "name": "python3"
  },
  "language_info": {
   "codemirror_mode": {
    "name": "ipython",
    "version": 3
   },
   "file_extension": ".py",
   "mimetype": "text/x-python",
   "name": "python",
   "nbconvert_exporter": "python",
   "pygments_lexer": "ipython3",
   "version": "3.8.8"
  }
 },
 "nbformat": 4,
 "nbformat_minor": 2
}
