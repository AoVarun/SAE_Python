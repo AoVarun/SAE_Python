{
 "cells": [
  {
   "cell_type": "markdown",
   "metadata": {},
   "source": [
    "# Notebook de présentation de la SAE S01.02"
   ]
  },
  {
   "cell_type": "markdown",
   "metadata": {},
   "source": [
    "## Binôme \n",
    "\n",
    "* Gupta Varun\n",
    "* Huynh Alexandre"
   ]
  },
  {
   "cell_type": "markdown",
   "metadata": {},
   "source": [
    "<hr>"
   ]
  },
  {
   "cell_type": "markdown",
   "metadata": {},
   "source": [
    "# Partie 2"
   ]
  },
  {
   "cell_type": "code",
   "execution_count": 3,
   "metadata": {},
   "outputs": [],
   "source": [
    "from biology import *"
   ]
  },
  {
   "cell_type": "markdown",
   "metadata": {},
   "source": [
    "## Question 1"
   ]
  },
  {
   "cell_type": "code",
   "execution_count": 4,
   "metadata": {},
   "outputs": [],
   "source": [
    "def nextIndice(tab, ind, elements):\n",
    "    i=ind\n",
    "    while i<len(tab):\n",
    "        j=0\n",
    "        while j<len(elements):\n",
    "            if elements[j]==tab[i]:\n",
    "                return tab.index(elements[j])\n",
    "            j+=1\n",
    "        i+=1\n",
    "    return len(tab)"
   ]
  },
  {
   "cell_type": "code",
   "execution_count": 5,
   "metadata": {},
   "outputs": [],
   "source": [
    "def test_nextIndice():\n",
    "    assert nextIndice([\"bonjour\", \"hello\", \"buongiorno\", \"ciao\", \"bye\"], 1, [\"hello\", \"bye\"])==1\n",
    "    assert nextIndice([\"bonjour\", \"halo\", \"buongiorno\", \"ciao\", \"bye\"], 1, [\"hello\", \"bye\"])==4\n",
    "    assert nextIndice([\"bonjour\", \"halo\", \"buongiorno\", \"ciao\", \"b\"], 1, [\"hello\", \"bye\"])==5\n",
    "    assert nextIndice([\"bonjour\", \"hello\", \"buongiorno\", \"ciao\", \"bye\"], 3, [\"hello\", \"bye\"])==4\n",
    "    print(\"test_nextIndice() = ok\")"
   ]
  },
  {
   "cell_type": "code",
   "execution_count": 6,
   "metadata": {},
   "outputs": [
    {
     "name": "stdout",
     "output_type": "stream",
     "text": [
      "test_nextIndice() = ok\n"
     ]
    }
   ],
   "source": [
    "test_nextIndice()"
   ]
  },
  {
   "cell_type": "markdown",
   "metadata": {},
   "source": [
    "## Question 2"
   ]
  },
  {
   "cell_type": "code",
   "execution_count": 7,
   "metadata": {},
   "outputs": [],
   "source": [
    "def decoupe_sequence(seq,start,stop):\n",
    "    tab=[]\n",
    "    i=0\n",
    "    while i<len(seq):\n",
    "        tab_seq=[]\n",
    "        if seq[i] in start:\n",
    "            j=i+1\n",
    "            while seq[j] not in stop:\n",
    "                tab_seq.append(seq[j])\n",
    "                j+=1\n",
    "            if len(tab_seq)>0:\n",
    "                tab.append(tab_seq)\n",
    "            i=j\n",
    "        else:\n",
    "            i+=1\n",
    "    return tab"
   ]
  },
  {
   "cell_type": "code",
   "execution_count": 8,
   "metadata": {},
   "outputs": [],
   "source": [
    "def test_decoupe_sequence():\n",
    "    assert decoupe_sequence([\"val1\", \"début\", \"val2\", \"val3\", \"end\", \"val4\", \"fin\", \"begin\", \"val5\", \"fin\", \"val6\"],\n",
    "                            [\"début\", \"begin\"],\n",
    "                            [\"fin\", \"end\"])==[[\"val2\", \"val3\"],[\"val5\"]]\n",
    "    assert decoupe_sequence([\"val1\", \"début\", \"end\", \"val4\", \"fin\", \"begin\", \"val5\", \"fin\", \"val6\"],\n",
    "                            [\"début\", \"begin\"],\n",
    "                            [\"fin\", \"end\"])==[[\"val5\"]]\n",
    "    assert decoupe_sequence([\"val1\", \"début\", \"end\", \"val4\", \"fin\", \"begin\", \"fin\", \"val6\"],\n",
    "                            [\"début\", \"begin\"],\n",
    "                            [\"fin\", \"end\"])==[]\n",
    "    print(\"test_decoupe_sequence() = ok\")"
   ]
  },
  {
   "cell_type": "code",
   "execution_count": 9,
   "metadata": {},
   "outputs": [
    {
     "name": "stdout",
     "output_type": "stream",
     "text": [
      "test_decoupe_sequence() = ok\n"
     ]
    }
   ],
   "source": [
    "test_decoupe_sequence()"
   ]
  },
  {
   "cell_type": "markdown",
   "metadata": {},
   "source": [
    "## Question 3"
   ]
  },
  {
   "cell_type": "code",
   "execution_count": 10,
   "metadata": {},
   "outputs": [],
   "source": [
    "def codons_to_seq_codantes(codons,dico):\n",
    "    return decoupe_sequence(codons,[\"AUG\"],codons_stop(dico))"
   ]
  },
  {
   "cell_type": "code",
   "execution_count": 12,
   "metadata": {},
   "outputs": [],
   "source": [
    "def test_codons_to_seq_codantes():\n",
    "    dico=load_dico_codons_aa(\"./data/codons_aa.json\")\n",
    "    assert codons_to_seq_codantes([\"CGU\", \"UUU\", \"AUG\", \"CGU\", \"AUG\", \"AAU\", \"UAA\", \"AUG\", \"GGG\", \"CCC\", \"CGU\", \"UAG\", \"GGG\"],\n",
    "                                  dico)==[['CGU', 'AUG', 'AAU'], ['GGG', 'CCC', 'CGU']]\n",
    "    assert codons_to_seq_codantes([\"CGU\", \"UUU\", \"AUG\", \"UAA\", \"AUG\", \"GGG\", \"CCC\",  \"CGU\", \"UAG\", \"GGG\"],\n",
    "                                  dico)==[['GGG', 'CCC', 'CGU']]\n",
    "    assert codons_to_seq_codantes([\"CGU\", \"UUU\", \"AUG\", \"UAA\", \"AUG\", \"UAG\", \"GGG\"],\n",
    "                                  dico)==[]\n",
    "    print(\"test_codons_to_seq_codantes() = ok\")"
   ]
  },
  {
   "cell_type": "code",
   "execution_count": 13,
   "metadata": {},
   "outputs": [
    {
     "name": "stdout",
     "output_type": "stream",
     "text": [
      "test_codons_to_seq_codantes() = ok\n"
     ]
    }
   ],
   "source": [
    "test_codons_to_seq_codantes()"
   ]
  },
  {
   "cell_type": "markdown",
   "metadata": {},
   "source": [
    "## Question 4"
   ]
  },
  {
   "cell_type": "code",
   "execution_count": 14,
   "metadata": {},
   "outputs": [],
   "source": [
    "def seq_codantes_to_seq_aas(seq_codantes, dico):\n",
    "    tab=[]\n",
    "    i=0\n",
    "    while i<len(seq_codantes):\n",
    "        seq_aas=[]\n",
    "        j=0\n",
    "        while j<len(seq_codantes[i]):\n",
    "            seq_aas.append(dico[seq_codantes[i][j]])\n",
    "            j+=1\n",
    "        tab.append(seq_aas)\n",
    "        i+=1\n",
    "    return tab"
   ]
  },
  {
   "cell_type": "code",
   "execution_count": 15,
   "metadata": {},
   "outputs": [],
   "source": [
    "def test_seq_codantes_to_seq_aas():\n",
    "    assert seq_codantes_to_seq_aas(codons_to_seq_codantes([\"CGU\", \"UUU\", \"AUG\", \"CGU\", \"AUG\", \n",
    "                                                           \"AAU\", \"UAA\", \"AUG\", \"GGG\", \"CCC\", \n",
    "                                                           \"CGU\", \"UAG\", \"GGG\"],\n",
    "                                                          load_dico_codons_aa(\"./data/codons_aa.json\")),\n",
    "                                   load_dico_codons_aa(\"./data/codons_aa.json\"))==[['Arginine', 'Methionine', 'Asparagine'], \n",
    "                                                                                   ['Glycine', 'Proline', 'Arginine']]\n",
    "    print(\"test_seq_codantes_to_seq_aas() = ok\")"
   ]
  },
  {
   "cell_type": "code",
   "execution_count": 16,
   "metadata": {},
   "outputs": [
    {
     "name": "stdout",
     "output_type": "stream",
     "text": [
      "test_seq_codantes_to_seq_aas() = ok\n"
     ]
    }
   ],
   "source": [
    "test_seq_codantes_to_seq_aas()"
   ]
  },
  {
   "cell_type": "markdown",
   "metadata": {},
   "source": [
    "## Question 5"
   ]
  },
  {
   "cell_type": "code",
   "execution_count": 17,
   "metadata": {},
   "outputs": [],
   "source": [
    "def adn_encode_molecule(adn, dico, seq_aas):\n",
    "    final=seq_codantes_to_seq_aas(codons_to_seq_codantes(arn_to_codons(arn(adn)),dico),dico)\n",
    "    i=0\n",
    "    while i<len(final):\n",
    "        if final[i]==seq_aas:\n",
    "            return True\n",
    "        i+=1\n",
    "    return False"
   ]
  },
  {
   "cell_type": "code",
   "execution_count": 18,
   "metadata": {},
   "outputs": [],
   "source": [
    "def test_adn_encode_molecule():\n",
    "    assert adn_encode_molecule(\"CGTTTTATGCGTATGAATTAAATGGGGCCCCGTTAGGGG\",\n",
    "                               load_dico_codons_aa(\"./data/codons_aa.json\"),\n",
    "                               [\"Glycine\", \"Proline\", \"Arginine\"])\n",
    "    assert not adn_encode_molecule(\"TGCTTTATGCGTATGAATTAAATAAAGCCCCGTTAGTTT\",\n",
    "                                   load_dico_codons_aa(\"./data/codons_aa.json\"),\n",
    "                                   [\"Glycine\", \"Proline\", \"Arginine\"])\n",
    "    print(\"test_adn_encode_molecule() = ok\")"
   ]
  },
  {
   "cell_type": "code",
   "execution_count": 19,
   "metadata": {},
   "outputs": [
    {
     "name": "stdout",
     "output_type": "stream",
     "text": [
      "test_adn_encode_molecule() = ok\n"
     ]
    }
   ],
   "source": [
    "test_adn_encode_molecule()"
   ]
  }
 ],
 "metadata": {
  "kernelspec": {
   "display_name": "Python 3",
   "language": "python",
   "name": "python3"
  },
  "language_info": {
   "codemirror_mode": {
    "name": "ipython",
    "version": 3
   },
   "file_extension": ".py",
   "mimetype": "text/x-python",
   "name": "python",
   "nbconvert_exporter": "python",
   "pygments_lexer": "ipython3",
   "version": "3.8.8"
  }
 },
 "nbformat": 4,
 "nbformat_minor": 2
}
