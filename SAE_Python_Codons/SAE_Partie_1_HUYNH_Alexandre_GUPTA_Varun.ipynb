{
 "cells": [
  {
   "cell_type": "markdown",
   "metadata": {},
   "source": [
    "# Notebook de présentation de la SAE S01.02"
   ]
  },
  {
   "cell_type": "markdown",
   "metadata": {},
   "source": [
    "## Binôme \n",
    "\n",
    "* Gupta Varun\n",
    "* Huynh Alexandre"
   ]
  },
  {
   "cell_type": "markdown",
   "metadata": {},
   "source": [
    "# Partie 1"
   ]
  },
  {
   "cell_type": "markdown",
   "metadata": {},
   "source": [
    "## Question 1"
   ]
  },
  {
   "cell_type": "code",
   "execution_count": 42,
   "metadata": {},
   "outputs": [
    {
     "name": "stdout",
     "output_type": "stream",
     "text": [
      "test_est_base = ok\n"
     ]
    }
   ],
   "source": [
    "def est_base(car):\n",
    "    return car==\"A\" or car==\"T\" or car==\"G\" or car==\"C\"\n",
    "\n",
    "def test_est_base():\n",
    "    assert est_base(\"A\")\n",
    "    assert est_base(\"z\")==False\n",
    "    print(\"test_est_base = ok\")\n",
    "    \n",
    "test_est_base()"
   ]
  },
  {
   "cell_type": "markdown",
   "metadata": {},
   "source": [
    "## Question 2"
   ]
  },
  {
   "cell_type": "code",
   "execution_count": 43,
   "metadata": {},
   "outputs": [
    {
     "name": "stdout",
     "output_type": "stream",
     "text": [
      "test_est_adn = ok\n"
     ]
    }
   ],
   "source": [
    "def est_adn(ch):\n",
    "    i=0\n",
    "    while i<len(ch):\n",
    "        if est_base(ch[i])==False:\n",
    "            return False\n",
    "        i+=1\n",
    "    return True\n",
    "\n",
    "def test_est_adn():\n",
    "    assert est_adn(\"ATGTCAAA\")\n",
    "    assert est_adn(\"ATBOAATG\")==False\n",
    "    print(\"test_est_adn = ok\")\n",
    "    \n",
    "test_est_adn()"
   ]
  },
  {
   "cell_type": "markdown",
   "metadata": {},
   "source": [
    "## Question 3"
   ]
  },
  {
   "cell_type": "code",
   "execution_count": 47,
   "metadata": {},
   "outputs": [
    {
     "name": "stdout",
     "output_type": "stream",
     "text": [
      "test_arn = ok\n"
     ]
    }
   ],
   "source": [
    "def arn(seq_adn):\n",
    "    if est_adn(seq_adn)==False:\n",
    "        return None\n",
    "    return seq_adn.replace(\"T\",\"U\")\n",
    "\n",
    "def test_arn():\n",
    "    assert arn(\"ATGTCAAA\")==\"AUGUCAAA\"\n",
    "    assert arn(\"ATBOAATG\")==None\n",
    "    print(\"test_arn = ok\")\n",
    "    \n",
    "test_arn()"
   ]
  },
  {
   "cell_type": "markdown",
   "metadata": {},
   "source": [
    "## Question 4"
   ]
  },
  {
   "cell_type": "code",
   "execution_count": 49,
   "metadata": {},
   "outputs": [
    {
     "name": "stdout",
     "output_type": "stream",
     "text": [
      "test_arn_to_codons = ok\n"
     ]
    }
   ],
   "source": [
    "def arn_to_codons(seq_arn):\n",
    "    tab=[]\n",
    "    i=0\n",
    "    j=0\n",
    "    while i<len(seq_arn)//3:\n",
    "        compteur=0\n",
    "        codon=\"\"\n",
    "        while compteur<3:\n",
    "            codon+=seq_arn[j]\n",
    "            j+=1\n",
    "            compteur+=1\n",
    "        tab.append(codon)\n",
    "        i+=1\n",
    "    return tab\n",
    "\n",
    "def test_arn_to_codons():\n",
    "    assert arn_to_codons(\"CGUUAGGGG\")==[\"CGU\", \"UAG\", \"GGG\"]\n",
    "    assert arn_to_codons(\"CGUAAU\")==arn_to_codons(\"CGUAAUGC\")\n",
    "    print(\"test_arn_to_codons = ok\")\n",
    "    \n",
    "test_arn_to_codons()"
   ]
  },
  {
   "cell_type": "markdown",
   "metadata": {},
   "source": [
    "## Question 5"
   ]
  },
  {
   "cell_type": "code",
   "execution_count": 56,
   "metadata": {},
   "outputs": [
    {
     "name": "stdout",
     "output_type": "stream",
     "text": [
      "test_codons_stop = ok\n"
     ]
    }
   ],
   "source": [
    "from json import *\n",
    "\n",
    "def load_dico_codons_aa(fichier_json):\n",
    "    fichier = open(fichier_json,\"r\")\n",
    "    json = fichier.read()\n",
    "    fichier.close()\n",
    "    codon_json = loads(json)\n",
    "    return codon_json \n",
    "\n",
    "def codons_stop(dico_codons):\n",
    "    tab=[]\n",
    "    car_codon=\"AUGC\"\n",
    "    for car_1 in car_codon:\n",
    "        codon = car_1 \n",
    "        for car_2 in car_codon:\n",
    "            codon += car_2\n",
    "            for car_3 in car_codon:\n",
    "                codon += car_3\n",
    "                if len(codon) == 3 and codon not in list(dico_codons):\n",
    "                    tab.append(codon)\n",
    "    return tab\n",
    "\n",
    "def test_codons_stop():\n",
    "    assert codons_stop(load_dico_codons_aa(\"./data/codons_aa.json\"))==[\"UAA\"]\n",
    "    print(\"test_codons_stop = ok\")\n",
    "    \n",
    "test_codons_stop()"
   ]
  },
  {
   "cell_type": "markdown",
   "metadata": {},
   "source": [
    "## Question 6"
   ]
  },
  {
   "cell_type": "code",
   "execution_count": 55,
   "metadata": {},
   "outputs": [
    {
     "name": "stdout",
     "output_type": "stream",
     "text": [
      "test_codons_to_aa = ok\n"
     ]
    }
   ],
   "source": [
    "def codons_to_aa(tab_codon,dico_codons):\n",
    "    tab=[]\n",
    "    i=0\n",
    "    while i<len(tab_codon):\n",
    "        if tab_codon[i] not in list(dico_codons):\n",
    "            return tab\n",
    "        tab.append(dico_codons[tab_codon[i]])\n",
    "        i+=1\n",
    "    return tab\n",
    "\n",
    "def test_codons_to_aa():\n",
    "    assert codons_to_aa([\"CGU\", \"AAU\", \"UAA\", \"GGG\", \"CGU\"],\n",
    "                        (load_dico_codons_aa(\"./data/codons_aa.json\")))==['Arginine', 'Asparagine']\n",
    "    assert codons_to_aa([\"CGU\", \"AAU\", \"GGG\", \"CGU\"],\n",
    "                        (load_dico_codons_aa(\"./data/codons_aa.json\")))==['Arginine', 'Asparagine', 'Glycine', 'Arginine']\n",
    "    print(\"test_codons_to_aa = ok\")\n",
    "    \n",
    "test_codons_to_aa()"
   ]
  }
 ],
 "metadata": {
  "kernelspec": {
   "display_name": "Python 3",
   "language": "python",
   "name": "python3"
  },
  "language_info": {
   "codemirror_mode": {
    "name": "ipython",
    "version": 3
   },
   "file_extension": ".py",
   "mimetype": "text/x-python",
   "name": "python",
   "nbconvert_exporter": "python",
   "pygments_lexer": "ipython3",
   "version": "3.6.8"
  }
 },
 "nbformat": 4,
 "nbformat_minor": 5
}
